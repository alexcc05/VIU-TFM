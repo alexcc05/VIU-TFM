{
 "cells": [
  {
   "cell_type": "code",
   "execution_count": null,
   "id": "fd94ea34",
   "metadata": {},
   "outputs": [],
   "source": [
    "#Código para recortar las imágenes Halpha\n",
    "\n",
    "from astropy.io import fits\n",
    "from astropy.nddata import Cutout2D\n",
    "from astropy.wcs import WCS\n",
    "import os\n",
    "import pandas as pd\n",
    "\n",
    "path = 'C:/Users/Alexander/Desktop/VIU-TFM/DATA/'\n",
    "\n",
    "dataPositions = pd.read_excel(path+'RECORTE_POSICIONES.xlsx')\n",
    "\n",
    "for filename in os.listdir(path+'/final_fits/HALPHA/'):\n",
    "\n",
    "    if 'Ha' in filename and '4654' in filename:\n",
    "        data = dataPositions[dataPositions['Name'] == filename[:-14]]\n",
    "        \n",
    "        if data.iloc[0].X != '-':\n",
    "            position = (data.iloc[0].POSX, data.iloc[0].POSY)\n",
    "            size = (data.iloc[0].Y, data.iloc[0].X,)\n",
    "            f = os.path.join(path+'/final_fits/HALPHA/',filename)\n",
    "            \n",
    "            if os.path.isfile(f):\n",
    "                hdu = fits.open(f)[0]\n",
    "            \n",
    "                wcs = WCS(hdu.header)\n",
    "                \n",
    "                cutout = Cutout2D(hdu.data, position=position, size=size, wcs=wcs)\n",
    "\n",
    "                hdu.data = cutout.data\n",
    "                \n",
    "                hdu.header.update(cutout.wcs.to_header())\n",
    "                \n",
    "                hdu.writeto(path+'/RECORTADAS/'+filename+'_recortada.fits', overwrite=True)"
   ]
  }
 ],
 "metadata": {
  "kernelspec": {
   "display_name": "Python 3 (ipykernel)",
   "language": "python",
   "name": "python3"
  },
  "language_info": {
   "codemirror_mode": {
    "name": "ipython",
    "version": 3
   },
   "file_extension": ".py",
   "mimetype": "text/x-python",
   "name": "python",
   "nbconvert_exporter": "python",
   "pygments_lexer": "ipython3",
   "version": "3.9.7"
  }
 },
 "nbformat": 4,
 "nbformat_minor": 5
}
